{
 "cells": [
  {
   "cell_type": "code",
   "execution_count": 1,
   "metadata": {
    "execution": {
     "iopub.execute_input": "2020-11-23T14:40:38.591927Z",
     "iopub.status.busy": "2020-11-23T14:40:38.591107Z",
     "iopub.status.idle": "2020-11-23T14:40:45.710318Z",
     "shell.execute_reply": "2020-11-23T14:40:45.709317Z"
    },
    "papermill": {
     "duration": 7.142111,
     "end_time": "2020-11-23T14:40:45.710495",
     "exception": false,
     "start_time": "2020-11-23T14:40:38.568384",
     "status": "completed"
    },
    "tags": []
   },
   "outputs": [
    {
     "name": "stdout",
     "output_type": "stream",
     "text": [
      "keys in train_dict: dict_keys(['id', 'word_seq', 'tag_seq'])\n",
      "keys in val_dict: dict_keys(['id', 'word_seq', 'tag_seq'])\n",
      "keys in test_dict: dict_keys(['id', 'word_seq'])\n"
     ]
    }
   ],
   "source": [
    "from tensorflow import keras\n",
    "import tensorflow as tf\n",
    "from keras.utils import to_categorical\n",
    "import numpy as np\n",
    "import os\n",
    "import pickle as pkl\n",
    "\n",
    "train_dict = pkl.load(open(\"../input/comp4901k/train.pkl\", \"rb\"))\n",
    "val_dict = pkl.load(open(\"../input/comp4901k/val.pkl\", \"rb\"))\n",
    "test_dict = pkl.load(open(\"../input/comp4901k/test.pkl\", \"rb\"))\n",
    "\n",
    "print(\"keys in train_dict:\", train_dict.keys())\n",
    "print(\"keys in val_dict:\", val_dict.keys())\n",
    "print(\"keys in test_dict:\", test_dict.keys())"
   ]
  },
  {
   "cell_type": "code",
   "execution_count": 2,
   "metadata": {
    "execution": {
     "iopub.execute_input": "2020-11-23T14:40:45.828620Z",
     "iopub.status.busy": "2020-11-23T14:40:45.782334Z",
     "iopub.status.idle": "2020-11-23T14:40:50.002006Z",
     "shell.execute_reply": "2020-11-23T14:40:50.002660Z"
    },
    "papermill": {
     "duration": 4.278352,
     "end_time": "2020-11-23T14:40:50.002843",
     "exception": false,
     "start_time": "2020-11-23T14:40:45.724491",
     "status": "completed"
    },
    "tags": []
   },
   "outputs": [],
   "source": [
    "tpu = tf.distribute.cluster_resolver.TPUClusterResolver()\n",
    "tf.config.experimental_connect_to_cluster(tpu)\n",
    "tf.tpu.experimental.initialize_tpu_system(tpu)\n",
    "tpu_strategy = tf.distribute.experimental.TPUStrategy(tpu)"
   ]
  },
  {
   "cell_type": "markdown",
   "metadata": {
    "papermill": {
     "duration": 0.012675,
     "end_time": "2020-11-23T14:40:50.028740",
     "exception": false,
     "start_time": "2020-11-23T14:40:50.016065",
     "status": "completed"
    },
    "tags": []
   },
   "source": [
    "# Prepare the data for training"
   ]
  },
  {
   "cell_type": "code",
   "execution_count": 3,
   "metadata": {
    "execution": {
     "iopub.execute_input": "2020-11-23T14:40:50.084020Z",
     "iopub.status.busy": "2020-11-23T14:40:50.068583Z",
     "iopub.status.idle": "2020-11-23T14:40:51.178210Z",
     "shell.execute_reply": "2020-11-23T14:40:51.177587Z"
    },
    "papermill": {
     "duration": 1.136567,
     "end_time": "2020-11-23T14:40:51.178339",
     "exception": false,
     "start_time": "2020-11-23T14:40:50.041772",
     "status": "completed"
    },
    "tags": []
   },
   "outputs": [
    {
     "name": "stdout",
     "output_type": "stream",
     "text": [
      "size of word vocab: 82275 size of tag_dict: 65\n"
     ]
    }
   ],
   "source": [
    "# prepare word vocab and tag vocab\n",
    "\n",
    "vocab_dict = {'_unk_': 0, '_w_pad_': 1}\n",
    "\n",
    "for doc in train_dict['word_seq']:\n",
    "    for word in doc:\n",
    "        if(word not in vocab_dict):\n",
    "            vocab_dict[word] = len(vocab_dict)\n",
    "\n",
    "tag_dict = {'_t_pad_': 0} # add a padding token\n",
    "\n",
    "for tag_seq in train_dict['tag_seq']:\n",
    "    for tag in tag_seq:\n",
    "        if(tag not in tag_dict):\n",
    "            tag_dict[tag] = len(tag_dict)\n",
    "word2idx = vocab_dict\n",
    "idx2word = {v:k for k,v in word2idx.items()}\n",
    "tag2idx = tag_dict\n",
    "idx2tag = {v:k for k,v in tag2idx.items()}            \n",
    "\n",
    "print(\"size of word vocab:\", len(vocab_dict), \"size of tag_dict:\", len(tag_dict))"
   ]
  },
  {
   "cell_type": "code",
   "execution_count": 4,
   "metadata": {
    "execution": {
     "iopub.execute_input": "2020-11-23T14:40:51.274765Z",
     "iopub.status.busy": "2020-11-23T14:40:51.245587Z",
     "iopub.status.idle": "2020-11-23T14:40:55.771565Z",
     "shell.execute_reply": "2020-11-23T14:40:55.772481Z"
    },
    "papermill": {
     "duration": 4.580661,
     "end_time": "2020-11-23T14:40:55.772705",
     "exception": false,
     "start_time": "2020-11-23T14:40:51.192044",
     "status": "completed"
    },
    "tags": []
   },
   "outputs": [],
   "source": [
    "# The maximum length of a sentence is set to 128\n",
    "max_sent_length = 128\n",
    "\n",
    "train_tokens = np.array([[word2idx[w] for w in doc] for doc in train_dict['word_seq']])\n",
    "val_tokens = np.array([[word2idx.get(w, 0) for w in doc] for doc in val_dict['word_seq']])\n",
    "test_tokens = np.array([[word2idx.get(w, 0) for w in doc] for doc in test_dict['word_seq']])\n",
    "\n",
    "\n",
    "train_tags = [[tag2idx[t] for t in t_seq] for t_seq in train_dict['tag_seq']]\n",
    "train_tags = np.array([to_categorical(t_seq, num_classes=len(tag_dict)) for t_seq in train_tags])\n",
    "\n",
    "val_tags = [[tag2idx[t] for t in t_seq] for t_seq in val_dict['tag_seq']]\n",
    "val_tags = np.array([to_categorical(t_seq, num_classes=len(tag_dict)) for t_seq in val_tags])\n",
    "\n",
    "# we don't have test tags"
   ]
  },
  {
   "cell_type": "code",
   "execution_count": 5,
   "metadata": {
    "execution": {
     "iopub.execute_input": "2020-11-23T14:40:55.818507Z",
     "iopub.status.busy": "2020-11-23T14:40:55.817297Z",
     "iopub.status.idle": "2020-11-23T14:40:55.821527Z",
     "shell.execute_reply": "2020-11-23T14:40:55.820664Z"
    },
    "papermill": {
     "duration": 0.030888,
     "end_time": "2020-11-23T14:40:55.821720",
     "exception": false,
     "start_time": "2020-11-23T14:40:55.790832",
     "status": "completed"
    },
    "tags": []
   },
   "outputs": [],
   "source": [
    "# Provided function to test accuracy\n",
    "# You could check the validation accuracy to select the best of your models\n",
    "def calc_accuracy(preds, tags, padding_id=\"_t_pad_\"):\n",
    "    \"\"\"\n",
    "        Input:\n",
    "            preds (np.narray): (num_data, length_sentence)\n",
    "            tags  (np.narray): (num_data, length_sentence)\n",
    "        Output:\n",
    "            Proportion of correct prediction. The padding tokens are filtered out.\n",
    "    \"\"\"\n",
    "    preds_flatten = preds.flatten()\n",
    "    tags_flatten = tags.flatten()\n",
    "    non_padding_idx = np.where(tags_flatten!=padding_id)[0]\n",
    "    \n",
    "    return sum(preds_flatten[non_padding_idx]==tags_flatten[non_padding_idx])/len(non_padding_idx)\n",
    "\n",
    "from tensorflow.keras import backend as K\n",
    "\n",
    "def accuracy(y_true, y_pred, class_to_ignore=0):\n",
    "    ignore_mask = K.cast(K.not_equal(K.argmax(y_true), class_to_ignore), K.floatx())\n",
    "    matches = K.cast(K.equal(K.argmax(y_true), K.argmax(y_pred)), K.floatx()) * ignore_mask\n",
    "    accuracy = K.sum(matches) / K.maximum(K.sum(ignore_mask), 1)\n",
    "    return accuracy"
   ]
  },
  {
   "cell_type": "markdown",
   "metadata": {
    "papermill": {
     "duration": 0.016527,
     "end_time": "2020-11-23T14:40:55.855697",
     "exception": false,
     "start_time": "2020-11-23T14:40:55.839170",
     "status": "completed"
    },
    "tags": []
   },
   "source": [
    "# Model"
   ]
  },
  {
   "cell_type": "code",
   "execution_count": 6,
   "metadata": {
    "execution": {
     "iopub.execute_input": "2020-11-23T14:40:55.906081Z",
     "iopub.status.busy": "2020-11-23T14:40:55.904927Z",
     "iopub.status.idle": "2020-11-23T14:40:59.107738Z",
     "shell.execute_reply": "2020-11-23T14:40:59.106959Z"
    },
    "papermill": {
     "duration": 3.233132,
     "end_time": "2020-11-23T14:40:59.107864",
     "exception": false,
     "start_time": "2020-11-23T14:40:55.874732",
     "status": "completed"
    },
    "tags": []
   },
   "outputs": [],
   "source": [
    "vocab_size = len(vocab_dict)\n",
    "tag_size = len(tag_dict)\n",
    "\n",
    "with tpu_strategy.scope():\n",
    "    model = keras.models.Sequential([\n",
    "        keras.layers.InputLayer(input_shape=(128,)),\n",
    "        keras.layers.Embedding(vocab_size, 512),\n",
    "        keras.layers.Dropout(0.7),\n",
    "        keras.layers.Bidirectional(keras.layers.GRU(256, return_sequences=True)),\n",
    "        keras.layers.Dropout(0.6),\n",
    "        keras.layers.Bidirectional(keras.layers.GRU(128, return_sequences=True)),\n",
    "        keras.layers.Dropout(0.5),\n",
    "        keras.layers.Dense(tag_size, activation='softmax')\n",
    "    ])\n",
    "    model.build(input_shape=(None, 128))"
   ]
  },
  {
   "cell_type": "code",
   "execution_count": 7,
   "metadata": {
    "execution": {
     "iopub.execute_input": "2020-11-23T14:40:59.144087Z",
     "iopub.status.busy": "2020-11-23T14:40:59.142955Z",
     "iopub.status.idle": "2020-11-23T14:40:59.152179Z",
     "shell.execute_reply": "2020-11-23T14:40:59.151570Z"
    },
    "papermill": {
     "duration": 0.028561,
     "end_time": "2020-11-23T14:40:59.152299",
     "exception": false,
     "start_time": "2020-11-23T14:40:59.123738",
     "status": "completed"
    },
    "tags": []
   },
   "outputs": [
    {
     "name": "stdout",
     "output_type": "stream",
     "text": [
      "Model: \"sequential\"\n",
      "_________________________________________________________________\n",
      "Layer (type)                 Output Shape              Param #   \n",
      "=================================================================\n",
      "embedding (Embedding)        (None, 128, 512)          42124800  \n",
      "_________________________________________________________________\n",
      "dropout (Dropout)            (None, 128, 512)          0         \n",
      "_________________________________________________________________\n",
      "bidirectional (Bidirectional (None, 128, 512)          1182720   \n",
      "_________________________________________________________________\n",
      "dropout_1 (Dropout)          (None, 128, 512)          0         \n",
      "_________________________________________________________________\n",
      "bidirectional_1 (Bidirection (None, 128, 256)          493056    \n",
      "_________________________________________________________________\n",
      "dropout_2 (Dropout)          (None, 128, 256)          0         \n",
      "_________________________________________________________________\n",
      "dense (Dense)                (None, 128, 65)           16705     \n",
      "=================================================================\n",
      "Total params: 43,817,281\n",
      "Trainable params: 43,817,281\n",
      "Non-trainable params: 0\n",
      "_________________________________________________________________\n"
     ]
    }
   ],
   "source": [
    "model.summary() "
   ]
  },
  {
   "cell_type": "code",
   "execution_count": 8,
   "metadata": {
    "execution": {
     "iopub.execute_input": "2020-11-23T14:40:59.196912Z",
     "iopub.status.busy": "2020-11-23T14:40:59.192693Z",
     "iopub.status.idle": "2020-11-23T14:40:59.218071Z",
     "shell.execute_reply": "2020-11-23T14:40:59.218680Z"
    },
    "papermill": {
     "duration": 0.051759,
     "end_time": "2020-11-23T14:40:59.218897",
     "exception": false,
     "start_time": "2020-11-23T14:40:59.167138",
     "status": "completed"
    },
    "tags": []
   },
   "outputs": [],
   "source": [
    "with tpu_strategy.scope():\n",
    "    model.compile(loss='categorical_crossentropy', \n",
    "                  optimizer=keras.optimizers.Adam(learning_rate=0.01, decay=0.02), \n",
    "                  metrics=[accuracy])"
   ]
  },
  {
   "cell_type": "code",
   "execution_count": 9,
   "metadata": {
    "execution": {
     "iopub.execute_input": "2020-11-23T14:41:01.417132Z",
     "iopub.status.busy": "2020-11-23T14:41:01.415446Z",
     "iopub.status.idle": "2020-11-23T14:51:03.007478Z",
     "shell.execute_reply": "2020-11-23T14:51:03.006484Z"
    },
    "papermill": {
     "duration": 603.771323,
     "end_time": "2020-11-23T14:51:03.007645",
     "exception": false,
     "start_time": "2020-11-23T14:40:59.236322",
     "status": "completed"
    },
    "tags": []
   },
   "outputs": [
    {
     "name": "stdout",
     "output_type": "stream",
     "text": [
      "Epoch 1/300\n",
      "12/12 [==============================] - 13s 1s/step - accuracy: 0.6448 - loss: 2.2643 - val_accuracy: 0.7552 - val_loss: 1.1744\n",
      "Epoch 2/300\n",
      "12/12 [==============================] - 3s 286ms/step - accuracy: 0.7476 - loss: 1.2289 - val_accuracy: 0.7523 - val_loss: 0.9645\n",
      "Epoch 3/300\n",
      "12/12 [==============================] - 4s 334ms/step - accuracy: 0.7519 - loss: 0.9980 - val_accuracy: 0.7647 - val_loss: 0.8410\n",
      "Epoch 4/300\n",
      "12/12 [==============================] - 4s 335ms/step - accuracy: 0.7668 - loss: 0.8735 - val_accuracy: 0.7812 - val_loss: 0.7754\n",
      "Epoch 5/300\n",
      "12/12 [==============================] - 4s 325ms/step - accuracy: 0.7821 - loss: 0.8030 - val_accuracy: 0.7881 - val_loss: 0.7262\n",
      "Epoch 6/300\n",
      "12/12 [==============================] - 4s 331ms/step - accuracy: 0.7931 - loss: 0.7476 - val_accuracy: 0.8043 - val_loss: 0.6840\n",
      "Epoch 7/300\n",
      "12/12 [==============================] - 4s 324ms/step - accuracy: 0.8048 - loss: 0.7023 - val_accuracy: 0.8149 - val_loss: 0.6483\n",
      "Epoch 8/300\n",
      "12/12 [==============================] - 4s 320ms/step - accuracy: 0.8156 - loss: 0.6630 - val_accuracy: 0.8233 - val_loss: 0.6172\n",
      "Epoch 9/300\n",
      "12/12 [==============================] - 4s 321ms/step - accuracy: 0.8251 - loss: 0.6293 - val_accuracy: 0.8316 - val_loss: 0.5897\n",
      "Epoch 10/300\n",
      "12/12 [==============================] - 4s 334ms/step - accuracy: 0.8335 - loss: 0.6001 - val_accuracy: 0.8392 - val_loss: 0.5664\n",
      "Epoch 11/300\n",
      "12/12 [==============================] - 4s 325ms/step - accuracy: 0.8407 - loss: 0.5750 - val_accuracy: 0.8455 - val_loss: 0.5466\n",
      "Epoch 12/300\n",
      "12/12 [==============================] - 4s 329ms/step - accuracy: 0.8467 - loss: 0.5540 - val_accuracy: 0.8513 - val_loss: 0.5308\n",
      "Epoch 13/300\n",
      "12/12 [==============================] - 4s 322ms/step - accuracy: 0.8523 - loss: 0.5359 - val_accuracy: 0.8560 - val_loss: 0.5167\n",
      "Epoch 14/300\n",
      "12/12 [==============================] - 4s 332ms/step - accuracy: 0.8567 - loss: 0.5195 - val_accuracy: 0.8591 - val_loss: 0.5051\n",
      "Epoch 15/300\n",
      "12/12 [==============================] - 4s 319ms/step - accuracy: 0.8603 - loss: 0.5061 - val_accuracy: 0.8620 - val_loss: 0.4959\n",
      "Epoch 16/300\n",
      "12/12 [==============================] - 4s 325ms/step - accuracy: 0.8637 - loss: 0.4944 - val_accuracy: 0.8638 - val_loss: 0.4874\n",
      "Epoch 17/300\n",
      "12/12 [==============================] - 4s 332ms/step - accuracy: 0.8666 - loss: 0.4838 - val_accuracy: 0.8650 - val_loss: 0.4803\n",
      "Epoch 18/300\n",
      "12/12 [==============================] - 4s 323ms/step - accuracy: 0.8690 - loss: 0.4745 - val_accuracy: 0.8664 - val_loss: 0.4739\n",
      "Epoch 19/300\n",
      "12/12 [==============================] - 4s 325ms/step - accuracy: 0.8713 - loss: 0.4658 - val_accuracy: 0.8677 - val_loss: 0.4677\n",
      "Epoch 20/300\n",
      "12/12 [==============================] - 4s 324ms/step - accuracy: 0.8731 - loss: 0.4579 - val_accuracy: 0.8691 - val_loss: 0.4621\n",
      "Epoch 21/300\n",
      "12/12 [==============================] - 4s 322ms/step - accuracy: 0.8749 - loss: 0.4506 - val_accuracy: 0.8699 - val_loss: 0.4576\n",
      "Epoch 22/300\n",
      "12/12 [==============================] - 4s 323ms/step - accuracy: 0.8767 - loss: 0.4440 - val_accuracy: 0.8711 - val_loss: 0.4527\n",
      "Epoch 23/300\n",
      "12/12 [==============================] - 4s 323ms/step - accuracy: 0.8780 - loss: 0.4373 - val_accuracy: 0.8724 - val_loss: 0.4483\n",
      "Epoch 24/300\n",
      "12/12 [==============================] - 4s 321ms/step - accuracy: 0.8798 - loss: 0.4314 - val_accuracy: 0.8729 - val_loss: 0.4449\n",
      "Epoch 25/300\n",
      "12/12 [==============================] - 4s 322ms/step - accuracy: 0.8811 - loss: 0.4259 - val_accuracy: 0.8749 - val_loss: 0.4393\n",
      "Epoch 26/300\n",
      "12/12 [==============================] - 4s 323ms/step - accuracy: 0.8824 - loss: 0.4207 - val_accuracy: 0.8756 - val_loss: 0.4363\n",
      "Epoch 27/300\n",
      "12/12 [==============================] - 4s 322ms/step - accuracy: 0.8834 - loss: 0.4156 - val_accuracy: 0.8758 - val_loss: 0.4341\n",
      "Epoch 28/300\n",
      "12/12 [==============================] - 4s 325ms/step - accuracy: 0.8845 - loss: 0.4109 - val_accuracy: 0.8770 - val_loss: 0.4304\n",
      "Epoch 29/300\n",
      "12/12 [==============================] - 4s 324ms/step - accuracy: 0.8855 - loss: 0.4061 - val_accuracy: 0.8781 - val_loss: 0.4271\n",
      "Epoch 30/300\n",
      "12/12 [==============================] - 4s 323ms/step - accuracy: 0.8867 - loss: 0.4015 - val_accuracy: 0.8784 - val_loss: 0.4249\n",
      "Epoch 31/300\n",
      "12/12 [==============================] - 4s 326ms/step - accuracy: 0.8877 - loss: 0.3971 - val_accuracy: 0.8791 - val_loss: 0.4215\n",
      "Epoch 32/300\n",
      "12/12 [==============================] - 4s 321ms/step - accuracy: 0.8886 - loss: 0.3935 - val_accuracy: 0.8802 - val_loss: 0.4191\n",
      "Epoch 33/300\n",
      "12/12 [==============================] - 5s 375ms/step - accuracy: 0.8896 - loss: 0.3889 - val_accuracy: 0.8804 - val_loss: 0.4171\n",
      "Epoch 34/300\n",
      "12/12 [==============================] - 4s 323ms/step - accuracy: 0.8905 - loss: 0.3853 - val_accuracy: 0.8807 - val_loss: 0.4146\n",
      "Epoch 35/300\n",
      "12/12 [==============================] - 4s 321ms/step - accuracy: 0.8916 - loss: 0.3818 - val_accuracy: 0.8816 - val_loss: 0.4121\n",
      "Epoch 36/300\n",
      "12/12 [==============================] - 4s 323ms/step - accuracy: 0.8925 - loss: 0.3777 - val_accuracy: 0.8825 - val_loss: 0.4101\n",
      "Epoch 37/300\n",
      "12/12 [==============================] - 3s 281ms/step - accuracy: 0.8928 - loss: 0.3753 - val_accuracy: 0.8817 - val_loss: 0.4098\n",
      "Epoch 38/300\n",
      "12/12 [==============================] - 4s 325ms/step - accuracy: 0.8938 - loss: 0.3715 - val_accuracy: 0.8828 - val_loss: 0.4069\n",
      "Epoch 39/300\n",
      "12/12 [==============================] - 4s 320ms/step - accuracy: 0.8945 - loss: 0.3681 - val_accuracy: 0.8828 - val_loss: 0.4057\n",
      "Epoch 40/300\n",
      "12/12 [==============================] - 4s 322ms/step - accuracy: 0.8953 - loss: 0.3654 - val_accuracy: 0.8838 - val_loss: 0.4030\n",
      "Epoch 41/300\n",
      "12/12 [==============================] - 4s 325ms/step - accuracy: 0.8962 - loss: 0.3619 - val_accuracy: 0.8843 - val_loss: 0.4017\n",
      "Epoch 42/300\n",
      "12/12 [==============================] - 4s 330ms/step - accuracy: 0.8971 - loss: 0.3586 - val_accuracy: 0.8856 - val_loss: 0.3993\n",
      "Epoch 43/300\n",
      "12/12 [==============================] - 4s 330ms/step - accuracy: 0.8977 - loss: 0.3557 - val_accuracy: 0.8860 - val_loss: 0.3983\n",
      "Epoch 44/300\n",
      "12/12 [==============================] - 3s 277ms/step - accuracy: 0.8982 - loss: 0.3536 - val_accuracy: 0.8854 - val_loss: 0.3979\n",
      "Epoch 45/300\n",
      "12/12 [==============================] - 4s 323ms/step - accuracy: 0.8991 - loss: 0.3505 - val_accuracy: 0.8860 - val_loss: 0.3962\n",
      "Epoch 46/300\n",
      "12/12 [==============================] - 4s 328ms/step - accuracy: 0.8997 - loss: 0.3477 - val_accuracy: 0.8875 - val_loss: 0.3940\n",
      "Epoch 47/300\n",
      "12/12 [==============================] - 4s 323ms/step - accuracy: 0.9004 - loss: 0.3451 - val_accuracy: 0.8878 - val_loss: 0.3926\n",
      "Epoch 48/300\n",
      "12/12 [==============================] - 3s 280ms/step - accuracy: 0.9009 - loss: 0.3423 - val_accuracy: 0.8871 - val_loss: 0.3930\n",
      "Epoch 49/300\n",
      "12/12 [==============================] - 3s 287ms/step - accuracy: 0.9018 - loss: 0.3397 - val_accuracy: 0.8877 - val_loss: 0.3917\n",
      "Epoch 50/300\n",
      "12/12 [==============================] - 4s 324ms/step - accuracy: 0.9023 - loss: 0.3371 - val_accuracy: 0.8882 - val_loss: 0.3905\n",
      "Epoch 51/300\n",
      "12/12 [==============================] - 4s 328ms/step - accuracy: 0.9027 - loss: 0.3352 - val_accuracy: 0.8887 - val_loss: 0.3892\n",
      "Epoch 52/300\n",
      "12/12 [==============================] - 4s 331ms/step - accuracy: 0.9035 - loss: 0.3324 - val_accuracy: 0.8888 - val_loss: 0.3881\n",
      "Epoch 53/300\n",
      "12/12 [==============================] - 4s 324ms/step - accuracy: 0.9040 - loss: 0.3301 - val_accuracy: 0.8889 - val_loss: 0.3876\n",
      "Epoch 54/300\n",
      "12/12 [==============================] - 3s 278ms/step - accuracy: 0.9045 - loss: 0.3280 - val_accuracy: 0.8889 - val_loss: 0.3870\n",
      "Epoch 55/300\n",
      "12/12 [==============================] - 4s 327ms/step - accuracy: 0.9052 - loss: 0.3260 - val_accuracy: 0.8896 - val_loss: 0.3856\n",
      "Epoch 56/300\n",
      "12/12 [==============================] - 4s 326ms/step - accuracy: 0.9056 - loss: 0.3239 - val_accuracy: 0.8906 - val_loss: 0.3846\n",
      "Epoch 57/300\n",
      "12/12 [==============================] - 3s 277ms/step - accuracy: 0.9062 - loss: 0.3216 - val_accuracy: 0.8904 - val_loss: 0.3840\n",
      "Epoch 58/300\n",
      "12/12 [==============================] - 3s 283ms/step - accuracy: 0.9067 - loss: 0.3195 - val_accuracy: 0.8904 - val_loss: 0.3831\n",
      "Epoch 59/300\n",
      "12/12 [==============================] - 3s 288ms/step - accuracy: 0.9071 - loss: 0.3177 - val_accuracy: 0.8905 - val_loss: 0.3827\n",
      "Epoch 60/300\n",
      "12/12 [==============================] - 4s 322ms/step - accuracy: 0.9079 - loss: 0.3150 - val_accuracy: 0.8911 - val_loss: 0.3816\n",
      "Epoch 61/300\n",
      "12/12 [==============================] - 4s 321ms/step - accuracy: 0.9082 - loss: 0.3142 - val_accuracy: 0.8916 - val_loss: 0.3806\n",
      "Epoch 62/300\n",
      "12/12 [==============================] - 3s 279ms/step - accuracy: 0.9086 - loss: 0.3119 - val_accuracy: 0.8909 - val_loss: 0.3811\n",
      "Epoch 63/300\n",
      "12/12 [==============================] - 4s 325ms/step - accuracy: 0.9092 - loss: 0.3100 - val_accuracy: 0.8918 - val_loss: 0.3794\n",
      "Epoch 64/300\n",
      "12/12 [==============================] - 4s 321ms/step - accuracy: 0.9099 - loss: 0.3080 - val_accuracy: 0.8919 - val_loss: 0.3792\n",
      "Epoch 65/300\n",
      "12/12 [==============================] - 4s 321ms/step - accuracy: 0.9102 - loss: 0.3064 - val_accuracy: 0.8929 - val_loss: 0.3773\n",
      "Epoch 66/300\n",
      "12/12 [==============================] - 4s 327ms/step - accuracy: 0.9106 - loss: 0.3047 - val_accuracy: 0.8935 - val_loss: 0.3769\n",
      "Epoch 67/300\n",
      "12/12 [==============================] - 3s 283ms/step - accuracy: 0.9110 - loss: 0.3033 - val_accuracy: 0.8927 - val_loss: 0.3777\n",
      "Epoch 68/300\n",
      "12/12 [==============================] - 3s 284ms/step - accuracy: 0.9116 - loss: 0.3009 - val_accuracy: 0.8931 - val_loss: 0.3767\n",
      "Epoch 69/300\n",
      "12/12 [==============================] - 4s 326ms/step - accuracy: 0.9120 - loss: 0.3001 - val_accuracy: 0.8938 - val_loss: 0.3763\n",
      "Epoch 70/300\n",
      "12/12 [==============================] - 3s 283ms/step - accuracy: 0.9126 - loss: 0.2977 - val_accuracy: 0.8936 - val_loss: 0.3756\n",
      "Epoch 71/300\n",
      "12/12 [==============================] - 4s 328ms/step - accuracy: 0.9127 - loss: 0.2962 - val_accuracy: 0.8938 - val_loss: 0.3756\n",
      "Epoch 72/300\n",
      "12/12 [==============================] - 4s 326ms/step - accuracy: 0.9132 - loss: 0.2947 - val_accuracy: 0.8941 - val_loss: 0.3743\n",
      "Epoch 73/300\n",
      "12/12 [==============================] - 3s 281ms/step - accuracy: 0.9137 - loss: 0.2929 - val_accuracy: 0.8939 - val_loss: 0.3748\n",
      "Epoch 74/300\n",
      "12/12 [==============================] - 4s 327ms/step - accuracy: 0.9140 - loss: 0.2919 - val_accuracy: 0.8944 - val_loss: 0.3740\n",
      "Epoch 75/300\n",
      "12/12 [==============================] - 4s 325ms/step - accuracy: 0.9146 - loss: 0.2900 - val_accuracy: 0.8951 - val_loss: 0.3730\n",
      "Epoch 76/300\n",
      "12/12 [==============================] - 4s 321ms/step - accuracy: 0.9151 - loss: 0.2888 - val_accuracy: 0.8956 - val_loss: 0.3722\n",
      "Epoch 77/300\n",
      "12/12 [==============================] - 4s 333ms/step - accuracy: 0.9152 - loss: 0.2875 - val_accuracy: 0.8956 - val_loss: 0.3725\n",
      "Epoch 78/300\n",
      "12/12 [==============================] - 3s 276ms/step - accuracy: 0.9159 - loss: 0.2855 - val_accuracy: 0.8953 - val_loss: 0.3724\n",
      "Epoch 79/300\n",
      "12/12 [==============================] - 3s 281ms/step - accuracy: 0.9161 - loss: 0.2843 - val_accuracy: 0.8950 - val_loss: 0.3730\n",
      "Epoch 80/300\n",
      "12/12 [==============================] - 3s 284ms/step - accuracy: 0.9166 - loss: 0.2830 - val_accuracy: 0.8951 - val_loss: 0.3720\n",
      "Epoch 81/300\n",
      "12/12 [==============================] - 4s 322ms/step - accuracy: 0.9169 - loss: 0.2817 - val_accuracy: 0.8956 - val_loss: 0.3715\n",
      "Epoch 82/300\n",
      "12/12 [==============================] - 4s 323ms/step - accuracy: 0.9171 - loss: 0.2801 - val_accuracy: 0.8965 - val_loss: 0.3710\n",
      "Epoch 83/300\n",
      "12/12 [==============================] - 3s 276ms/step - accuracy: 0.9174 - loss: 0.2793 - val_accuracy: 0.8964 - val_loss: 0.3709\n",
      "Epoch 84/300\n",
      "12/12 [==============================] - 3s 276ms/step - accuracy: 0.9179 - loss: 0.2782 - val_accuracy: 0.8954 - val_loss: 0.3719\n",
      "Epoch 85/300\n",
      "12/12 [==============================] - 3s 279ms/step - accuracy: 0.9185 - loss: 0.2760 - val_accuracy: 0.8962 - val_loss: 0.3708\n",
      "Epoch 86/300\n",
      "12/12 [==============================] - 3s 288ms/step - accuracy: 0.9184 - loss: 0.2753 - val_accuracy: 0.8955 - val_loss: 0.3716\n",
      "Epoch 87/300\n",
      "12/12 [==============================] - 3s 280ms/step - accuracy: 0.9186 - loss: 0.2743 - val_accuracy: 0.8959 - val_loss: 0.3713\n",
      "Epoch 88/300\n",
      "12/12 [==============================] - 4s 324ms/step - accuracy: 0.9191 - loss: 0.2728 - val_accuracy: 0.8975 - val_loss: 0.3698\n",
      "Epoch 89/300\n",
      "12/12 [==============================] - 3s 286ms/step - accuracy: 0.9197 - loss: 0.2715 - val_accuracy: 0.8971 - val_loss: 0.3696\n",
      "Epoch 90/300\n",
      "12/12 [==============================] - 3s 278ms/step - accuracy: 0.9198 - loss: 0.2702 - val_accuracy: 0.8966 - val_loss: 0.3705\n",
      "Epoch 91/300\n",
      "12/12 [==============================] - 3s 290ms/step - accuracy: 0.9202 - loss: 0.2685 - val_accuracy: 0.8974 - val_loss: 0.3697\n",
      "Epoch 92/300\n",
      "12/12 [==============================] - 3s 276ms/step - accuracy: 0.9207 - loss: 0.2676 - val_accuracy: 0.8972 - val_loss: 0.3697\n",
      "Epoch 93/300\n",
      "12/12 [==============================] - 4s 331ms/step - accuracy: 0.9209 - loss: 0.2670 - val_accuracy: 0.8970 - val_loss: 0.3699\n",
      "Epoch 94/300\n",
      "12/12 [==============================] - 4s 323ms/step - accuracy: 0.9211 - loss: 0.2657 - val_accuracy: 0.8978 - val_loss: 0.3689\n",
      "Epoch 95/300\n",
      "12/12 [==============================] - 3s 274ms/step - accuracy: 0.9215 - loss: 0.2643 - val_accuracy: 0.8977 - val_loss: 0.3693\n",
      "Epoch 96/300\n",
      "12/12 [==============================] - 4s 323ms/step - accuracy: 0.9219 - loss: 0.2628 - val_accuracy: 0.8979 - val_loss: 0.3692\n",
      "Epoch 97/300\n",
      "12/12 [==============================] - 3s 283ms/step - accuracy: 0.9221 - loss: 0.2622 - val_accuracy: 0.8979 - val_loss: 0.3691\n",
      "Epoch 98/300\n",
      "12/12 [==============================] - 4s 338ms/step - accuracy: 0.9225 - loss: 0.2611 - val_accuracy: 0.8972 - val_loss: 0.3701\n",
      "Epoch 99/300\n",
      "12/12 [==============================] - 5s 444ms/step - accuracy: 0.9226 - loss: 0.2601 - val_accuracy: 0.8986 - val_loss: 0.3687\n",
      "Epoch 100/300\n",
      "12/12 [==============================] - 4s 296ms/step - accuracy: 0.9228 - loss: 0.2591 - val_accuracy: 0.8981 - val_loss: 0.3688\n",
      "Epoch 101/300\n",
      "12/12 [==============================] - 3s 281ms/step - accuracy: 0.9231 - loss: 0.2580 - val_accuracy: 0.8984 - val_loss: 0.3689\n",
      "Epoch 102/300\n",
      "12/12 [==============================] - 4s 325ms/step - accuracy: 0.9238 - loss: 0.2565 - val_accuracy: 0.8986 - val_loss: 0.3689\n",
      "Epoch 103/300\n",
      "12/12 [==============================] - 3s 276ms/step - accuracy: 0.9239 - loss: 0.2558 - val_accuracy: 0.8983 - val_loss: 0.3691\n",
      "Epoch 104/300\n",
      "12/12 [==============================] - 4s 328ms/step - accuracy: 0.9241 - loss: 0.2546 - val_accuracy: 0.8988 - val_loss: 0.3684\n",
      "Epoch 105/300\n",
      "12/12 [==============================] - 3s 289ms/step - accuracy: 0.9244 - loss: 0.2537 - val_accuracy: 0.8982 - val_loss: 0.3694\n",
      "Epoch 106/300\n",
      "12/12 [==============================] - 3s 277ms/step - accuracy: 0.9245 - loss: 0.2527 - val_accuracy: 0.8986 - val_loss: 0.3687\n",
      "Epoch 107/300\n",
      "12/12 [==============================] - 3s 277ms/step - accuracy: 0.9247 - loss: 0.2522 - val_accuracy: 0.8983 - val_loss: 0.3693\n",
      "Epoch 108/300\n",
      "12/12 [==============================] - 4s 325ms/step - accuracy: 0.9250 - loss: 0.2512 - val_accuracy: 0.8988 - val_loss: 0.3691\n",
      "Epoch 109/300\n",
      "12/12 [==============================] - 3s 278ms/step - accuracy: 0.9251 - loss: 0.2500 - val_accuracy: 0.8987 - val_loss: 0.3692\n",
      "Epoch 110/300\n",
      "12/12 [==============================] - 4s 324ms/step - accuracy: 0.9256 - loss: 0.2487 - val_accuracy: 0.8990 - val_loss: 0.3685\n",
      "Epoch 111/300\n",
      "12/12 [==============================] - 3s 283ms/step - accuracy: 0.9261 - loss: 0.2480 - val_accuracy: 0.8988 - val_loss: 0.3693\n",
      "Epoch 112/300\n",
      "12/12 [==============================] - 3s 277ms/step - accuracy: 0.9263 - loss: 0.2469 - val_accuracy: 0.8986 - val_loss: 0.3697\n",
      "Epoch 113/300\n",
      "12/12 [==============================] - 4s 320ms/step - accuracy: 0.9263 - loss: 0.2459 - val_accuracy: 0.8999 - val_loss: 0.3685\n",
      "Epoch 114/300\n",
      "12/12 [==============================] - 3s 281ms/step - accuracy: 0.9266 - loss: 0.2449 - val_accuracy: 0.8989 - val_loss: 0.3687\n",
      "Epoch 115/300\n",
      "12/12 [==============================] - 3s 284ms/step - accuracy: 0.9269 - loss: 0.2440 - val_accuracy: 0.8995 - val_loss: 0.3685\n",
      "Epoch 116/300\n",
      "12/12 [==============================] - 3s 277ms/step - accuracy: 0.9271 - loss: 0.2435 - val_accuracy: 0.8983 - val_loss: 0.3703\n",
      "Epoch 117/300\n",
      "12/12 [==============================] - 3s 286ms/step - accuracy: 0.9272 - loss: 0.2432 - val_accuracy: 0.8997 - val_loss: 0.3686\n",
      "Epoch 118/300\n",
      "12/12 [==============================] - 3s 277ms/step - accuracy: 0.9277 - loss: 0.2417 - val_accuracy: 0.8993 - val_loss: 0.3691\n",
      "Epoch 119/300\n",
      "12/12 [==============================] - 3s 279ms/step - accuracy: 0.9279 - loss: 0.2408 - val_accuracy: 0.8992 - val_loss: 0.3695\n",
      "Epoch 120/300\n",
      "12/12 [==============================] - 3s 281ms/step - accuracy: 0.9284 - loss: 0.2392 - val_accuracy: 0.8997 - val_loss: 0.3694\n",
      "Epoch 121/300\n",
      "12/12 [==============================] - 3s 276ms/step - accuracy: 0.9286 - loss: 0.2391 - val_accuracy: 0.8997 - val_loss: 0.3693\n",
      "Epoch 122/300\n",
      "12/12 [==============================] - 4s 326ms/step - accuracy: 0.9284 - loss: 0.2385 - val_accuracy: 0.9001 - val_loss: 0.3688\n",
      "Epoch 123/300\n",
      "12/12 [==============================] - 3s 279ms/step - accuracy: 0.9288 - loss: 0.2376 - val_accuracy: 0.8997 - val_loss: 0.3697\n",
      "Epoch 124/300\n",
      "12/12 [==============================] - 3s 281ms/step - accuracy: 0.9290 - loss: 0.2366 - val_accuracy: 0.8999 - val_loss: 0.3694\n",
      "Epoch 125/300\n",
      "12/12 [==============================] - 3s 280ms/step - accuracy: 0.9292 - loss: 0.2360 - val_accuracy: 0.9000 - val_loss: 0.3694\n",
      "Epoch 126/300\n",
      "12/12 [==============================] - 4s 328ms/step - accuracy: 0.9295 - loss: 0.2346 - val_accuracy: 0.9002 - val_loss: 0.3697\n",
      "Epoch 127/300\n",
      "12/12 [==============================] - 4s 322ms/step - accuracy: 0.9299 - loss: 0.2335 - val_accuracy: 0.9006 - val_loss: 0.3696\n",
      "Epoch 128/300\n",
      "12/12 [==============================] - 3s 276ms/step - accuracy: 0.9299 - loss: 0.2338 - val_accuracy: 0.8994 - val_loss: 0.3706\n",
      "Epoch 129/300\n",
      "12/12 [==============================] - 3s 287ms/step - accuracy: 0.9301 - loss: 0.2324 - val_accuracy: 0.9000 - val_loss: 0.3705\n",
      "Epoch 130/300\n",
      "12/12 [==============================] - 3s 278ms/step - accuracy: 0.9303 - loss: 0.2317 - val_accuracy: 0.9000 - val_loss: 0.3702\n",
      "Epoch 131/300\n",
      "12/12 [==============================] - 3s 278ms/step - accuracy: 0.9303 - loss: 0.2317 - val_accuracy: 0.9004 - val_loss: 0.3696\n",
      "Epoch 132/300\n",
      "12/12 [==============================] - 3s 287ms/step - accuracy: 0.9307 - loss: 0.2306 - val_accuracy: 0.9005 - val_loss: 0.3698\n",
      "Epoch 133/300\n",
      "12/12 [==============================] - 3s 280ms/step - accuracy: 0.9308 - loss: 0.2296 - val_accuracy: 0.9002 - val_loss: 0.3703\n",
      "Epoch 134/300\n",
      "12/12 [==============================] - 3s 282ms/step - accuracy: 0.9310 - loss: 0.2290 - val_accuracy: 0.8996 - val_loss: 0.3704\n",
      "Epoch 135/300\n",
      "12/12 [==============================] - 3s 284ms/step - accuracy: 0.9313 - loss: 0.2279 - val_accuracy: 0.9003 - val_loss: 0.3704\n",
      "Epoch 136/300\n",
      "12/12 [==============================] - 4s 322ms/step - accuracy: 0.9315 - loss: 0.2275 - val_accuracy: 0.9010 - val_loss: 0.3701\n",
      "Epoch 137/300\n",
      "12/12 [==============================] - 3s 280ms/step - accuracy: 0.9315 - loss: 0.2267 - val_accuracy: 0.9009 - val_loss: 0.3702\n",
      "Epoch 138/300\n",
      "12/12 [==============================] - 3s 280ms/step - accuracy: 0.9318 - loss: 0.2259 - val_accuracy: 0.8998 - val_loss: 0.3715\n",
      "Epoch 139/300\n",
      "12/12 [==============================] - 3s 289ms/step - accuracy: 0.9322 - loss: 0.2250 - val_accuracy: 0.9001 - val_loss: 0.3711\n",
      "Epoch 140/300\n",
      "12/12 [==============================] - 3s 282ms/step - accuracy: 0.9322 - loss: 0.2248 - val_accuracy: 0.9005 - val_loss: 0.3709\n",
      "Epoch 141/300\n",
      "12/12 [==============================] - 3s 283ms/step - accuracy: 0.9325 - loss: 0.2239 - val_accuracy: 0.9009 - val_loss: 0.3704\n",
      "Epoch 142/300\n",
      "12/12 [==============================] - 3s 278ms/step - accuracy: 0.9329 - loss: 0.2232 - val_accuracy: 0.9003 - val_loss: 0.3715\n",
      "Epoch 143/300\n",
      "12/12 [==============================] - 3s 279ms/step - accuracy: 0.9327 - loss: 0.2225 - val_accuracy: 0.9007 - val_loss: 0.3713\n",
      "Epoch 144/300\n",
      "12/12 [==============================] - 3s 283ms/step - accuracy: 0.9332 - loss: 0.2217 - val_accuracy: 0.9010 - val_loss: 0.3712\n",
      "Epoch 145/300\n",
      "12/12 [==============================] - 3s 279ms/step - accuracy: 0.9332 - loss: 0.2211 - val_accuracy: 0.9008 - val_loss: 0.3711\n",
      "Epoch 146/300\n",
      "12/12 [==============================] - 7s 552ms/step - accuracy: 0.9335 - loss: 0.2206 - val_accuracy: 0.9010 - val_loss: 0.3717\n"
     ]
    }
   ],
   "source": [
    "num_epochs = 300\n",
    "\n",
    "history = model.fit(train_tokens, \n",
    "                    train_tags, \n",
    "                    epochs=num_epochs, \n",
    "                    batch_size=2048,\n",
    "                    validation_data=(val_tokens, val_tags), \n",
    "                    callbacks=[keras.callbacks.EarlyStopping(monitor='val_accuracy', patience=10, restore_best_weights=True)]\n",
    "                    )"
   ]
  },
  {
   "cell_type": "code",
   "execution_count": 10,
   "metadata": {
    "execution": {
     "iopub.execute_input": "2020-11-23T14:51:04.683279Z",
     "iopub.status.busy": "2020-11-23T14:51:04.682429Z",
     "iopub.status.idle": "2020-11-23T14:51:05.171152Z",
     "shell.execute_reply": "2020-11-23T14:51:05.170516Z"
    },
    "papermill": {
     "duration": 1.318249,
     "end_time": "2020-11-23T14:51:05.171275",
     "exception": false,
     "start_time": "2020-11-23T14:51:03.853026",
     "status": "completed"
    },
    "tags": []
   },
   "outputs": [
    {
     "data": {
      "image/png": "[encoded data removed]",
      "text/plain": [
       "<Figure size 432x288 with 1 Axes>"
      ]
     },
     "metadata": {
      "needs_background": "light"
     },
     "output_type": "display_data"
    },
    {
     "data": {
      "image/png": "[encoded data removed]",
      "text/plain": [
       "<Figure size 432x288 with 1 Axes>"
      ]
     },
     "metadata": {
      "needs_background": "light"
     },
     "output_type": "display_data"
    }
   ],
   "source": [
    "import matplotlib.pyplot as plt\n",
    "\n",
    "def plot_graphs(history, string):\n",
    "    plt.plot(history.history[string])\n",
    "    plt.plot(history.history['val_'+string])\n",
    "    plt.xlabel(\"Epochs\")\n",
    "    plt.ylabel(string)\n",
    "    plt.legend([string, 'val_'+string])\n",
    "    plt.show()\n",
    "\n",
    "plot_graphs(history, \"accuracy\")\n",
    "plot_graphs(history, \"loss\")"
   ]
  },
  {
   "cell_type": "code",
   "execution_count": 11,
   "metadata": {
    "execution": {
     "iopub.execute_input": "2020-11-23T14:51:06.837799Z",
     "iopub.status.busy": "2020-11-23T14:51:06.836488Z",
     "iopub.status.idle": "2020-11-23T14:51:12.527849Z",
     "shell.execute_reply": "2020-11-23T14:51:12.527085Z"
    },
    "papermill": {
     "duration": 6.531361,
     "end_time": "2020-11-23T14:51:12.527977",
     "exception": false,
     "start_time": "2020-11-23T14:51:05.996616",
     "status": "completed"
    },
    "tags": []
   },
   "outputs": [
    {
     "data": {
      "text/plain": [
       "0.8999768578784461"
      ]
     },
     "execution_count": 11,
     "metadata": {},
     "output_type": "execute_result"
    }
   ],
   "source": [
    "val_result = model.predict([val_tokens])\n",
    "val_result = val_result[0:len(val_tokens)]\n",
    "val_result = val_result.argmax(axis = -1)\n",
    "val_result = np.vectorize(lambda idx: idx2tag[idx])(val_result)\n",
    "calc_accuracy(val_result, np.array(val_dict['tag_seq']))"
   ]
  },
  {
   "cell_type": "code",
   "execution_count": 12,
   "metadata": {
    "execution": {
     "iopub.execute_input": "2020-11-23T14:51:14.197756Z",
     "iopub.status.busy": "2020-11-23T14:51:14.196642Z",
     "iopub.status.idle": "2020-11-23T14:51:15.748115Z",
     "shell.execute_reply": "2020-11-23T14:51:15.747376Z"
    },
    "papermill": {
     "duration": 2.383667,
     "end_time": "2020-11-23T14:51:15.748243",
     "exception": false,
     "start_time": "2020-11-23T14:51:13.364576",
     "status": "completed"
    },
    "tags": []
   },
   "outputs": [],
   "source": [
    "test_result = model.predict([test_tokens])\n",
    "test_result = test_result[0:len(test_tokens)]\n",
    "test_result = test_result.argmax(axis = -1)\n",
    "test_result = np.vectorize(lambda idx: idx2tag[idx])(test_result)"
   ]
  },
  {
   "cell_type": "code",
   "execution_count": 13,
   "metadata": {
    "execution": {
     "iopub.execute_input": "2020-11-23T14:51:17.487381Z",
     "iopub.status.busy": "2020-11-23T14:51:17.450829Z",
     "iopub.status.idle": "2020-11-23T14:51:17.939898Z",
     "shell.execute_reply": "2020-11-23T14:51:17.939127Z"
    },
    "papermill": {
     "duration": 1.36369,
     "end_time": "2020-11-23T14:51:17.940030",
     "exception": false,
     "start_time": "2020-11-23T14:51:16.576340",
     "status": "completed"
    },
    "tags": []
   },
   "outputs": [],
   "source": [
    "import json\n",
    "import pandas as pd\n",
    "\n",
    "df = pd.DataFrame({'id': test_dict[\"id\"],\n",
    "                   'labels': [json.dumps(np.array(preds).tolist()) for preds in test_result]})\n",
    "df.to_csv('test_preds.csv', index=False)\n",
    "\n",
    "df = pd.DataFrame({'id': val_dict[\"id\"],\n",
    "                   'labels': [json.dumps(np.array(preds).tolist()) for preds in val_result]})\n",
    "df.to_csv('val_preds.csv', index=False)"
   ]
  }
 ],
 "metadata": {
  "kernelspec": {
   "display_name": "Python 3",
   "language": "python",
   "name": "python3"
  },
  "language_info": {
   "codemirror_mode": {
    "name": "ipython",
    "version": 3
   },
   "file_extension": ".py",
   "mimetype": "text/x-python",
   "name": "python",
   "nbconvert_exporter": "python",
   "pygments_lexer": "ipython3",
   "version": "3.7.6"
  },
  "papermill": {
   "duration": 644.980114,
   "end_time": "2020-11-23T14:51:18.877765",
   "environment_variables": {},
   "exception": null,
   "input_path": "__notebook__.ipynb",
   "output_path": "__notebook__.ipynb",
   "parameters": {},
   "start_time": "2020-11-23T14:40:33.897651",
   "version": "2.1.0"
  }
 },
 "nbformat": 4,
 "nbformat_minor": 4
}
