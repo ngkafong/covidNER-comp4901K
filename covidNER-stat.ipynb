{
 "cells": [
  {
   "cell_type": "code",
   "execution_count": 1,
   "metadata": {
    "execution": {
     "iopub.execute_input": "2021-04-12T05:19:02.836530Z",
     "iopub.status.busy": "2021-04-12T05:19:02.835509Z",
     "iopub.status.idle": "2021-04-12T05:19:10.207397Z",
     "shell.execute_reply": "2021-04-12T05:19:10.206638Z"
    },
    "papermill": {
     "duration": 7.384245,
     "end_time": "2021-04-12T05:19:10.207518",
     "exception": false,
     "start_time": "2021-04-12T05:19:02.823273",
     "status": "completed"
    },
    "tags": []
   },
   "outputs": [
    {
     "name": "stdout",
     "output_type": "stream",
     "text": [
      "keys in train_dict: dict_keys(['id', 'word_seq', 'tag_seq'])\n",
      "keys in val_dict: dict_keys(['id', 'word_seq', 'tag_seq'])\n",
      "keys in test_dict: dict_keys(['id', 'word_seq'])\n"
     ]
    }
   ],
   "source": [
    "from tensorflow import keras\n",
    "import tensorflow as tf\n",
    "from keras.utils import to_categorical\n",
    "import numpy as np\n",
    "import os\n",
    "import pickle as pkl\n",
    "\n",
    "train_dict = pkl.load(open(\"../input/comp4901k/train.pkl\", \"rb\"))\n",
    "val_dict = pkl.load(open(\"../input/comp4901k/val.pkl\", \"rb\"))\n",
    "test_dict = pkl.load(open(\"../input/comp4901k/test.pkl\", \"rb\"))\n",
    "\n",
    "print(\"keys in train_dict:\", train_dict.keys())\n",
    "print(\"keys in val_dict:\", val_dict.keys())\n",
    "print(\"keys in test_dict:\", test_dict.keys())"
   ]
  },
  {
   "cell_type": "code",
   "execution_count": 2,
   "metadata": {
    "execution": {
     "iopub.execute_input": "2021-04-12T05:19:10.281004Z",
     "iopub.status.busy": "2021-04-12T05:19:10.275517Z",
     "iopub.status.idle": "2021-04-12T05:19:14.673072Z",
     "shell.execute_reply": "2021-04-12T05:19:14.672491Z"
    },
    "papermill": {
     "duration": 4.456187,
     "end_time": "2021-04-12T05:19:14.673200",
     "exception": false,
     "start_time": "2021-04-12T05:19:10.217013",
     "status": "completed"
    },
    "tags": []
   },
   "outputs": [],
   "source": [
    "# prepare word vocab and tag vocab\n",
    "\n",
    "vocab_freq_dict = {}\n",
    "tag_freq_dict = {}\n",
    "\n",
    "for i in range(len(train_dict['word_seq'])):\n",
    "    for j in range(len(train_dict['word_seq'][i])):\n",
    "        word = train_dict['word_seq'][i][j]\n",
    "        tag = train_dict['tag_seq'][i][j]\n",
    "        if word in vocab_freq_dict:\n",
    "            if tag in vocab_freq_dict[word]:\n",
    "                vocab_freq_dict[word][tag] += 1\n",
    "            else:\n",
    "                vocab_freq_dict[word][tag] = 1\n",
    "        else:\n",
    "            vocab_freq_dict[word] = {}\n",
    "            vocab_freq_dict[word][tag] = 1\n",
    "        if tag in tag_freq_dict:\n",
    "            tag_freq_dict[tag] += 1\n",
    "        else:\n",
    "            tag_freq_dict[tag] = 1"
   ]
  },
  {
   "cell_type": "code",
   "execution_count": 3,
   "metadata": {
    "execution": {
     "iopub.execute_input": "2021-04-12T05:19:14.697709Z",
     "iopub.status.busy": "2021-04-12T05:19:14.697061Z",
     "iopub.status.idle": "2021-04-12T05:19:14.699874Z",
     "shell.execute_reply": "2021-04-12T05:19:14.700401Z"
    },
    "papermill": {
     "duration": 0.01839,
     "end_time": "2021-04-12T05:19:14.700539",
     "exception": false,
     "start_time": "2021-04-12T05:19:14.682149",
     "status": "completed"
    },
    "tags": []
   },
   "outputs": [
    {
     "data": {
      "text/plain": [
       "229579"
      ]
     },
     "execution_count": 3,
     "metadata": {},
     "output_type": "execute_result"
    }
   ],
   "source": [
    "tag_freq_dict.pop('_t_pad_')"
   ]
  },
  {
   "cell_type": "code",
   "execution_count": 4,
   "metadata": {
    "execution": {
     "iopub.execute_input": "2021-04-12T05:19:14.723262Z",
     "iopub.status.busy": "2021-04-12T05:19:14.722557Z",
     "iopub.status.idle": "2021-04-12T05:19:14.728187Z",
     "shell.execute_reply": "2021-04-12T05:19:14.727424Z"
    },
    "papermill": {
     "duration": 0.018569,
     "end_time": "2021-04-12T05:19:14.728321",
     "exception": false,
     "start_time": "2021-04-12T05:19:14.709752",
     "status": "completed"
    },
    "tags": []
   },
   "outputs": [],
   "source": [
    "tag_freq_dict = dict(sorted(tag_freq_dict.items(), key=lambda tag_freq_dict: tag_freq_dict[1], reverse=True))"
   ]
  },
  {
   "cell_type": "code",
   "execution_count": 5,
   "metadata": {
    "execution": {
     "iopub.execute_input": "2021-04-12T05:19:14.755298Z",
     "iopub.status.busy": "2021-04-12T05:19:14.754601Z",
     "iopub.status.idle": "2021-04-12T05:19:14.993810Z",
     "shell.execute_reply": "2021-04-12T05:19:14.993175Z"
    },
    "papermill": {
     "duration": 0.255449,
     "end_time": "2021-04-12T05:19:14.993939",
     "exception": false,
     "start_time": "2021-04-12T05:19:14.738490",
     "status": "completed"
    },
    "tags": []
   },
   "outputs": [
    {
     "data": {
      "image/png": "[encoded data removed]",
      "text/plain": [
       "<Figure size 432x288 with 1 Axes>"
      ]
     },
     "metadata": {},
     "output_type": "display_data"
    }
   ],
   "source": [
    "from matplotlib import pyplot\n",
    "labels = list(tag_freq_dict.keys())[:20] + ['']*(len(tag_freq_dict)-20)\n",
    "pyplot.pie(tag_freq_dict.values(), labels=labels)\n",
    "pyplot.show()"
   ]
  },
  {
   "cell_type": "code",
   "execution_count": 6,
   "metadata": {
    "execution": {
     "iopub.execute_input": "2021-04-12T05:19:15.035512Z",
     "iopub.status.busy": "2021-04-12T05:19:15.030039Z",
     "iopub.status.idle": "2021-04-12T05:19:19.290585Z",
     "shell.execute_reply": "2021-04-12T05:19:19.289894Z"
    },
    "papermill": {
     "duration": 4.285712,
     "end_time": "2021-04-12T05:19:19.290699",
     "exception": false,
     "start_time": "2021-04-12T05:19:15.004987",
     "status": "completed"
    },
    "tags": []
   },
   "outputs": [],
   "source": [
    "# a Naive statistics model\n",
    "vocab_max_dict = {}\n",
    "for (vocab, freq_dict) in vocab_freq_dict.items():\n",
    "    vocab_max_dict[vocab] = max(freq_dict, key=freq_dict.get)\n",
    "    \n",
    "train_result = np.vectorize(lambda word: vocab_max_dict.get(word, 'O'))(train_dict['word_seq'])\n",
    "val_result = np.vectorize(lambda word: vocab_max_dict.get(word, 'O'))(val_dict['word_seq'])"
   ]
  },
  {
   "cell_type": "code",
   "execution_count": 7,
   "metadata": {
    "execution": {
     "iopub.execute_input": "2021-04-12T05:19:19.318735Z",
     "iopub.status.busy": "2021-04-12T05:19:19.317704Z",
     "iopub.status.idle": "2021-04-12T05:19:19.322167Z",
     "shell.execute_reply": "2021-04-12T05:19:19.321652Z"
    },
    "papermill": {
     "duration": 0.020668,
     "end_time": "2021-04-12T05:19:19.322282",
     "exception": false,
     "start_time": "2021-04-12T05:19:19.301614",
     "status": "completed"
    },
    "tags": []
   },
   "outputs": [
    {
     "data": {
      "text/plain": [
       "{'O': 53,\n",
       " 'CHEMICAL': 405,\n",
       " 'GENE_OR_GENOME': 425,\n",
       " 'LABORATORY_PROCEDURE': 5,\n",
       " 'DISEASE_OR_SYNDROME': 4,\n",
       " 'WORK_OF_ART': 1,\n",
       " 'ORG': 1,\n",
       " 'CELL': 3}"
      ]
     },
     "execution_count": 7,
     "metadata": {},
     "output_type": "execute_result"
    }
   ],
   "source": [
    "vocab_freq_dict['antigen']"
   ]
  },
  {
   "cell_type": "code",
   "execution_count": 8,
   "metadata": {
    "execution": {
     "iopub.execute_input": "2021-04-12T05:19:19.352523Z",
     "iopub.status.busy": "2021-04-12T05:19:19.351820Z",
     "iopub.status.idle": "2021-04-12T05:19:19.354801Z",
     "shell.execute_reply": "2021-04-12T05:19:19.354268Z"
    },
    "papermill": {
     "duration": 0.021295,
     "end_time": "2021-04-12T05:19:19.354931",
     "exception": false,
     "start_time": "2021-04-12T05:19:19.333636",
     "status": "completed"
    },
    "tags": []
   },
   "outputs": [],
   "source": [
    "\n",
    "def calc_accuracy(preds, tags, padding_id=\"_t_pad_\"):\n",
    "    \"\"\"\n",
    "        Input:\n",
    "            preds (np.narray): (num_data, length_sentence)\n",
    "            tags  (np.narray): (num_data, length_sentence)\n",
    "        Output:\n",
    "            Proportion of correct prediction. The padding tokens are filtered out.\n",
    "    \"\"\"\n",
    "    preds_flatten = preds.flatten()\n",
    "    tags_flatten = tags.flatten()\n",
    "    non_padding_idx = np.where(tags_flatten!=padding_id)[0]\n",
    "    \n",
    "    return sum(preds_flatten[non_padding_idx]==tags_flatten[non_padding_idx])/len(non_padding_idx)"
   ]
  },
  {
   "cell_type": "code",
   "execution_count": 9,
   "metadata": {
    "execution": {
     "iopub.execute_input": "2021-04-12T05:19:20.283783Z",
     "iopub.status.busy": "2021-04-12T05:19:20.282592Z",
     "iopub.status.idle": "2021-04-12T05:19:33.044039Z",
     "shell.execute_reply": "2021-04-12T05:19:33.043354Z"
    },
    "papermill": {
     "duration": 13.677531,
     "end_time": "2021-04-12T05:19:33.044159",
     "exception": false,
     "start_time": "2021-04-12T05:19:19.366628",
     "status": "completed"
    },
    "tags": []
   },
   "outputs": [
    {
     "data": {
      "text/plain": [
       "0.8686811255719271"
      ]
     },
     "execution_count": 9,
     "metadata": {},
     "output_type": "execute_result"
    }
   ],
   "source": [
    "calc_accuracy(train_result, np.array(train_dict['tag_seq']))"
   ]
  },
  {
   "cell_type": "code",
   "execution_count": 10,
   "metadata": {
    "execution": {
     "iopub.execute_input": "2021-04-12T05:19:33.185817Z",
     "iopub.status.busy": "2021-04-12T05:19:33.184479Z",
     "iopub.status.idle": "2021-04-12T05:19:34.776127Z",
     "shell.execute_reply": "2021-04-12T05:19:34.776622Z"
    },
    "papermill": {
     "duration": 1.720549,
     "end_time": "2021-04-12T05:19:34.776824",
     "exception": false,
     "start_time": "2021-04-12T05:19:33.056275",
     "status": "completed"
    },
    "tags": []
   },
   "outputs": [
    {
     "data": {
      "text/plain": [
       "0.8548786485001012"
      ]
     },
     "execution_count": 10,
     "metadata": {},
     "output_type": "execute_result"
    }
   ],
   "source": [
    "calc_accuracy(val_result, np.array(val_dict['tag_seq']))"
   ]
  },
  {
   "cell_type": "code",
   "execution_count": null,
   "metadata": {
    "papermill": {
     "duration": 0.012103,
     "end_time": "2021-04-12T05:19:34.801452",
     "exception": false,
     "start_time": "2021-04-12T05:19:34.789349",
     "status": "completed"
    },
    "tags": []
   },
   "outputs": [],
   "source": []
  }
 ],
 "metadata": {
  "kernelspec": {
   "display_name": "Python 3",
   "language": "python",
   "name": "python3"
  },
  "language_info": {
   "codemirror_mode": {
    "name": "ipython",
    "version": 3
   },
   "file_extension": ".py",
   "mimetype": "text/x-python",
   "name": "python",
   "nbconvert_exporter": "python",
   "pygments_lexer": "ipython3",
   "version": "3.7.9"
  },
  "papermill": {
   "duration": 36.755075,
   "end_time": "2021-04-12T05:19:34.922087",
   "environment_variables": {},
   "exception": null,
   "input_path": "__notebook__.ipynb",
   "output_path": "__notebook__.ipynb",
   "parameters": {},
   "start_time": "2021-04-12T05:18:58.167012",
   "version": "2.1.0"
  }
 },
 "nbformat": 4,
 "nbformat_minor": 4
}
